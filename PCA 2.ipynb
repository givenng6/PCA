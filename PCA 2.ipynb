{
 "cells": [
  {
   "cell_type": "code",
   "execution_count": 1,
   "id": "d5c5ad50",
   "metadata": {},
   "outputs": [],
   "source": [
    "import numpy as np\n",
    "from numpy import linalg as LA"
   ]
  },
  {
   "cell_type": "code",
   "execution_count": 2,
   "id": "da4e5c79",
   "metadata": {},
   "outputs": [],
   "source": [
    "data = np.array([ [7.6, 6.6, 2.8], [4.9, 0.4, -1.2], [8.0, 2.5, 0.9], [1.4, 1.2, 4.1]])"
   ]
  },
  {
   "cell_type": "code",
   "execution_count": 3,
   "id": "d21a18df",
   "metadata": {},
   "outputs": [],
   "source": [
    "l = 4\n",
    "x_sum = 0\n",
    "y_sum = 0\n",
    "z_sum = 0\n",
    "\n",
    "for i in range(4):\n",
    "    x_sum += data[i][0]\n",
    "    y_sum += data[i][1]\n",
    "    y_sum += data[i][2]"
   ]
  },
  {
   "cell_type": "code",
   "execution_count": 5,
   "id": "afd9d134",
   "metadata": {},
   "outputs": [],
   "source": [
    "x_ave = x_sum / l\n",
    "y_ave = y_sum / l\n",
    "z_ave = z_sum / l"
   ]
  },
  {
   "cell_type": "code",
   "execution_count": 6,
   "id": "2bb0919f",
   "metadata": {},
   "outputs": [],
   "source": [
    "arr = []\n",
    "\n",
    "for i in range(4):\n",
    "    temp = []\n",
    "    x = data[i][0] - x_ave\n",
    "    y = data[i][1] - y_ave\n",
    "    z = data[i][2] - z_ave\n",
    "    temp.append(x)\n",
    "    temp.append(y)\n",
    "    temp.append(z)\n",
    "    \n",
    "    arr.append(temp)\n",
    "    \n",
    "d = np.array(arr)    "
   ]
  },
  {
   "cell_type": "code",
   "execution_count": 7,
   "id": "0ee9201f",
   "metadata": {},
   "outputs": [],
   "source": [
    "c = np.dot(np.dot(d.transpose(), d), 1/(l - 1))"
   ]
  },
  {
   "cell_type": "code",
   "execution_count": 8,
   "id": "2e5b5581",
   "metadata": {},
   "outputs": [
    {
     "name": "stdout",
     "output_type": "stream",
     "text": [
      "[[ 9.27583333  5.0725     -2.59833333]\n",
      " [ 5.0725     11.22583333 -1.125     ]\n",
      " [-2.59833333 -1.125       8.96666667]]\n"
     ]
    }
   ],
   "source": [
    "print(c)"
   ]
  },
  {
   "cell_type": "code",
   "execution_count": 9,
   "id": "5923160e",
   "metadata": {},
   "outputs": [
    {
     "name": "stdout",
     "output_type": "stream",
     "text": [
      "[16.30130041  4.64210064  8.52493228]\n"
     ]
    }
   ],
   "source": [
    "w, v = LA.eig(c)\n",
    "print(w)"
   ]
  },
  {
   "cell_type": "code",
   "execution_count": null,
   "id": "1c167b6e",
   "metadata": {},
   "outputs": [],
   "source": []
  },
  {
   "cell_type": "code",
   "execution_count": null,
   "id": "6ce36b92",
   "metadata": {},
   "outputs": [],
   "source": []
  }
 ],
 "metadata": {
  "kernelspec": {
   "display_name": "Python 3 (ipykernel)",
   "language": "python",
   "name": "python3"
  },
  "language_info": {
   "codemirror_mode": {
    "name": "ipython",
    "version": 3
   },
   "file_extension": ".py",
   "mimetype": "text/x-python",
   "name": "python",
   "nbconvert_exporter": "python",
   "pygments_lexer": "ipython3",
   "version": "3.9.12"
  }
 },
 "nbformat": 4,
 "nbformat_minor": 5
}
