{
 "cells": [
  {
   "cell_type": "code",
   "execution_count": 68,
   "id": "0e02743e",
   "metadata": {},
   "outputs": [],
   "source": [
    "import numpy as np\n",
    "from numpy import linalg as LA"
   ]
  },
  {
   "cell_type": "code",
   "execution_count": 69,
   "id": "eb0ab227",
   "metadata": {},
   "outputs": [],
   "source": [
    "m = np.array([\n",
    "[4.39, 1.59, 4.54],\n",
    "[3.82, 1.82, 3.99] ,\n",
    "[7.66, 2.95, 7.29 ],\n",
    "[7.95, 2.55, 7.22 ],\n",
    "[1.87, 0.68, 2.50 ],\n",
    "[4.90, 1.97, 5.38 ],\n",
    "[4.46, 2.30, 5.07 ],\n",
    "[6.46, 2.28, 5.65 ],\n",
    "[7.09, 2.71, 6.41 ],\n",
    "[7.55 ,2.49, 6.52 ]\n",
    " ])"
   ]
  },
  {
   "cell_type": "code",
   "execution_count": 70,
   "id": "4bc8f813",
   "metadata": {},
   "outputs": [],
   "source": [
    "sum_x = 0\n",
    "sum_y = 0\n",
    "sum_z = 0\n",
    "\n",
    "for i in range(10):\n",
    "    sum_x += m[i][0]\n",
    "    sum_y += m[i][1]\n",
    "    sum_z += m[i][2]"
   ]
  },
  {
   "cell_type": "code",
   "execution_count": 71,
   "id": "9da4f9a8",
   "metadata": {},
   "outputs": [],
   "source": [
    "ave_x = sum_x / 10\n",
    "ave_y = sum_y / 10\n",
    "ave_z = sum_z / 10"
   ]
  },
  {
   "cell_type": "code",
   "execution_count": 72,
   "id": "2b05166b",
   "metadata": {},
   "outputs": [],
   "source": [
    "arr = []\n",
    "\n",
    "for i in range(10):\n",
    "    temp = []\n",
    "    x = m[i][0] - ave_x\n",
    "    y = m[i][1] - ave_y\n",
    "    z = m[i][2] - ave_z\n",
    "    temp.append(x)\n",
    "    temp.append(y)\n",
    "    temp.append(z)\n",
    "    \n",
    "    arr.append(temp)\n",
    "    \n",
    "        \n",
    "d = np.array(arr)"
   ]
  },
  {
   "cell_type": "code",
   "execution_count": 73,
   "id": "bca2b647",
   "metadata": {},
   "outputs": [],
   "source": [
    "c = np.dot(np.dot(d.transpose(), d), 1/9)"
   ]
  },
  {
   "cell_type": "code",
   "execution_count": 76,
   "id": "a954ca90",
   "metadata": {},
   "outputs": [],
   "source": [
    "w, v = LA.eig(c)"
   ]
  },
  {
   "cell_type": "code",
   "execution_count": 77,
   "id": "bc210cb7",
   "metadata": {},
   "outputs": [
    {
     "name": "stdout",
     "output_type": "stream",
     "text": [
      "[6.67430999 0.09048126 0.03286431]\n"
     ]
    }
   ],
   "source": [
    "print(w)"
   ]
  },
  {
   "cell_type": "code",
   "execution_count": 78,
   "id": "06f4173b",
   "metadata": {},
   "outputs": [
    {
     "name": "stdout",
     "output_type": "stream",
     "text": [
      "[[-0.78028542 -0.57718529 -0.24085639]\n",
      " [-0.23780562  0.62998983 -0.73929784]\n",
      " [-0.57844891  0.51958632  0.62882979]]\n"
     ]
    }
   ],
   "source": [
    "print(v)"
   ]
  },
  {
   "cell_type": "code",
   "execution_count": null,
   "id": "43936d52",
   "metadata": {},
   "outputs": [],
   "source": []
  }
 ],
 "metadata": {
  "kernelspec": {
   "display_name": "Python 3 (ipykernel)",
   "language": "python",
   "name": "python3"
  },
  "language_info": {
   "codemirror_mode": {
    "name": "ipython",
    "version": 3
   },
   "file_extension": ".py",
   "mimetype": "text/x-python",
   "name": "python",
   "nbconvert_exporter": "python",
   "pygments_lexer": "ipython3",
   "version": "3.9.12"
  }
 },
 "nbformat": 4,
 "nbformat_minor": 5
}
